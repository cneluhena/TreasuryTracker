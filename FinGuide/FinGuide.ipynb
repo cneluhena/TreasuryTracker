{
 "cells": [
  {
   "cell_type": "code",
   "execution_count": 1,
   "metadata": {},
   "outputs": [],
   "source": [
    "import os\n",
    "import pickle\n",
    "import time\n",
    "import streamlit as st\n",
    "from langchain.chains import RetrievalQAWithSourcesChain\n",
    "from langchain.chains.qa_with_sources.loading import load_qa_with_sources_chain\n",
    "from langchain.text_splitter import RecursiveCharacterTextSplitter\n",
    "from langchain.embeddings import OpenAIEmbeddings\n",
    "from langchain_community.document_loaders import UnstructuredURLLoader \n",
    "from langchain import OpenAI\n",
    "from langchain.vectorstores import FAISS"
   ]
  },
  {
   "cell_type": "code",
   "execution_count": 4,
   "metadata": {},
   "outputs": [
    {
     "data": {
      "text/plain": [
       "2"
      ]
     },
     "execution_count": 4,
     "metadata": {},
     "output_type": "execute_result"
    }
   ],
   "source": [
    "loader=UnstructuredURLLoader(urls=[\n",
    "    'https://www.cbsl.gov.lk/en/financial-system/financial-markets/government-securities-market',\n",
    "    'https://www.sc.com/ke/investments/learn/understanding-bonds-for-beginners/'\n",
    "])\n",
    "data=loader.load()\n",
    "len(data)"
   ]
  },
  {
   "cell_type": "code",
   "execution_count": 5,
   "metadata": {},
   "outputs": [
    {
     "data": {
      "text/plain": [
       "Document(metadata={'source': 'https://www.cbsl.gov.lk/en/financial-system/financial-markets/government-securities-market'}, page_content=\"Skip to main content\\n\\nEnglish\\n\\nසිංහල\\n\\nதமிழ்\\n\\nNavigation\\n\\nABOUT\\n\\nAbout the Bank\\n\\nOverview\\n\\nHistory\\n\\nVision, Mission & Values\\n\\nObjectives\\n\\nFunctions\\n\\nOrganisational Structure\\n\\nCorporate Structure\\n\\nPrincipal Officers\\n\\nDepartments\\n\\nBank Premises\\n\\nBank Headquarters\\n\\nRegional Offices\\n\\nLibrary & Information Center\\n\\nCentre For Banking Studies\\n\\nThe Economic History Museum of Sri Lanka\\n\\nExter Report\\n\\nMONETARY POLICY\\n\\nAbout Monetary Policy\\n\\nOverview\\n\\nEconomic and Price Stability\\n\\nMonetary Policy Framework\\n\\nInstruments & Implementation\\n\\nPolicy Rates and Open Market Operations\\n\\nStatutory Reserve Requirement\\n\\nOther Policy Instruments\\n\\nMonetary Policy Committee\\n\\nStakeholder Engagement Committee\\n\\nMonetary Policy Communication\\n\\nOverview\\n\\nMonetary Policy Announcement Dates\\n\\nMonetary Policy Advance Release Calendar\\n\\nMonetary Policy Review\\n\\nMonetary Policy Review - No. 5 of 2024\\n\\nMonetary Policy Review - No. 4 of 2024\\n\\nMonetary Policy Review - No. 3 of 2024\\n\\nMonetary Policy Review - No. 2 of 2024\\n\\nMonetary Policy Review - No. 1 of 2024\\n\\nmore\\n\\nFINANCIAL SYSTEM\\n\\nFinancial System Stability\\n\\nOverview\\n\\nMajor Functions\\n\\nBanking Sector\\n\\nNon Bank Finance and Leasing Sector\\n\\nPrimary Dealers\\n\\nMicrofinance Sector\\n\\nMoney Broking Industry\\n\\nMacroprudential Surveillance\\n\\nSustainable Finance\\n\\nFinancial Markets\\n\\nFinancial Markets Overview\\n\\nInterbank Call money Market\\n\\nDomestic Foreign Exchange Market\\n\\nGovernment Securities Market\\n\\nCorporate Debt Securities Market\\n\\nEquity Market\\n\\nDevelopment Finance and Access to Finance\\n\\nFinancial Infrastructure\\n\\nPayment and Settlement Systems\\n\\nCredit Information\\n\\nLaws and Regulations\\n\\nInstruments & Implementation\\n\\nFinancial Instuments Overview\\n\\nFinancial System Stability Committee\\n\\nFinancial System Oversight Committee\\n\\nFinancial Stability Review\\n\\nNOTES & COINS\\n\\nNotes & Coins\\n\\nCurrent Note Series\\n\\nCoins in Circulation\\n\\nCommemorative Coins and Notes\\n\\nSecurity Features of Notes\\n\\nCurrency Management\\n\\nHistory of Currency in Sri Lanka\\n\\nPublic Currency Exchange Counter\\n\\nCurrency Museum\\n\\nDamaged Notes and Counterfeits\\n\\nUnfit, Altered and Mutilated Bank Notes\\n\\nExchanging Damaged Notes\\n\\nCounterfeit Prevention\\n\\nUsing Bank Note Images\\n\\nMore Information\\n\\nLAWS\\n\\nActs\\n\\nCentral Bank of Sri Lanka Act\\n\\nMonetary Law Act (Repealed)\\n\\nBanking\\n\\nNon-Banking\\n\\nMicro Finance\\n\\nForeign Exchange\\n\\nEmployee Provident Fund (EPF)\\n\\nOther\\n\\nDirections, Circulars and Guidelines\\n\\nBanking\\n\\nNon-Banking\\n\\nForeign Exchange\\n\\nInternational Operations\\n\\nPayments and Settlements\\n\\nDomestic Operations\\n\\nPublic Debt\\n\\nMicro Finance\\n\\nDeposit Insurance and Resolution\\n\\nFinancial Consumer Protection\\n\\nLicensing, Registration, Appointment and Authorisation Procedures\\n\\nBank\\n\\nFinance Company\\n\\nLeasing Establishment\\n\\nPrimary Dealer\\n\\nConsultation Papers\\n\\nConsultation Papers for Public Comments\\n\\nPublic Register under CBSL Act\\n\\nRules and Directions\\n\\nSTATISTICS\\n\\nStatistical Tables\\n\\nReal Sector\\n\\nExternal Sector\\n\\nFiscal Sector\\n\\nMonetary Sector\\n\\nFinancial Sector\\n\\nEconomic Indicators\\n\\nDaily Price Report\\n\\nDaily Indicators\\n\\nWeekly Indicators\\n\\nMonthly Indicators\\n\\nMonthly Bulletin\\n\\nMonthly Trade Bulletin\\n\\nMacroeconomic Chart Pack\\n\\nSri Lanka Prosperity Index\\n\\nWorkers' Remittances and Labour Migration\\n\\nGross Domestic Product\\n\\nAgriculture Data Bulletin\\n\\nBusiness Surveys\\n\\nPurchasing Managers' Index\\n\\nBusiness Outlook Survey\\n\\nSurvey on Credit Supply\\n\\nCondominium Market Survey\\n\\nData\\n\\nSDDS National Summary Data\\n\\nEconomic Data Library\\n\\nEconomic and Social Statistics\\n\\nPRESS\\n\\nPress Releases\\n\\nMonetary Policy Review\\n\\nFinancial Stability Review\\n\\nExternal Sector Performance\\n\\nOpen Market Operations\\n\\nInflation\\n\\nPurchasing Managers Index Survey\\n\\nNon-Bank Financial Institutions\\n\\nGovernment Securities\\n\\nOther\\n\\nMedia\\n\\nNotices\\n\\nPress Conferences\\n\\nSpeeches\\n\\nInterviews\\n\\nMonetary Policy Review\\n\\nMonetary Policy Review - No. 5 of 2024\\n\\nMonetary Policy Review - No. 4 of 2024\\n\\nMonetary Policy Review - No. 3 of 2024\\n\\nMonetary Policy Review - No. 2 of 2024\\n\\nMonetary Policy Review - No. 1 of 2024\\n\\nmore\\n\\nPUBLICATIONS\\n\\nEconomic and Financial Reports\\n\\nMonetary Policy Report\\n\\nAnnual Economic Review\\n\\nFinancial Statements and Operations\\n\\nAnnual Report\\n\\nFinancial Stability Review\\n\\nFinancial Soundness Indicators\\n\\nRecent Economic Developments\\n\\nMarket Operations Report\\n\\nCentral Bank of Sri Lanka Balance Sheet\\n\\nOther Financial Publications\\n\\nPeriodicals\\n\\nSatahana\\n\\nNews Survey\\n\\nVaippaham\\n\\nEducation\\n\\nEcon-Icon Quiz Program\\n\\nThakshilawa\\n\\nAwareness\\n\\nOther Publications\\n\\nStatistical Publications\\n\\nPayments Bulletin\\n\\nStaff Studies\\n\\nResearch Conference Proceedings\\n\\nFinancial Inclusion\\n\\nPublic Awareness\\n\\nOther Publications\\n\\nRESEARCH\\n\\nResearch\\n\\nStaff Studies\\n\\nResearch Conference Proceedings\\n\\nConferences, Seminars and Workshops\\n\\nInformation Series\\n\\nYou are here\\n\\nHome » FINANCIAL SYSTEM » Financial Markets » Government Securities Market\\n\\nGovernment Securities Market\\n\\nTreasury Bills and Treasury Bonds Market\\n\\nDomestic currency debt is mainly raised by the Government of Sri Lanka for budgetary purposes through,\\n\\nTreasury bills (T bills) which are short-term debt instruments issued under the Local Treasury Bills Ordinance No. 8 of 1923 (as amended) and;\\n\\nTreasury bonds (T bonds) which are medium to long term debt instruments issued under the Registered Stock and Securities Ordinance No. 7 of 1937 (as amended).\\n\\nCentral Bank of Sri Lanka (CBSL), as the agent of the Government of Sri Lanka is responsible for the issuance of Treasury bills and bonds, and associated debt service payments comprising interest/coupon payments and maturity payments.\\n\\nTreasury bill market is a segment of the domestic money market. Highly liquid nature of Treasury bills offers investors an alternate source of liquidity whilst generating a return on investment. Therefore, interest rate movements in the Treasury bill market provide a benchmark for the short-term credit market. In addition, changes in the volumes and rates in the Treasury bill market affect the cost, profitability and liquidity of financial institutions.\\n\\nTreasury bills and bonds are accepted as collateral by the Central Bank under its open market operations. In addition, financial institutions are required to maintain a significant exposure to default risk-free investments to enhance financial stability by the regulator, thus entrenching the importance of Treasury bills and bonds which are considered as default-risk free due to inherent repayment guarantee by the fiscal authority. Treasury bills and bonds are jointly denoted by the term Government securities in day-to-day market terminology.\\n\\nMain Features of Treasury Bills and Bonds in Sri Lanka\\n\\nTreasury bills are issued with 91-day, 182-day and 364-day maturities (standard maturities issued at primary auctions) whereas, Treasury bonds are issued for maturities of from 2- 30-years as per the provisions of Local Treasury Bills Ordinance No. 8 of 1923\\n\\nTreasury bills, normally issued at a discount are repaid at face value at the maturity\\n\\nTreasury bonds carry bi-annual coupon payments and are repaid at face value at the maturity.\\n\\nTreasury bonds can be issued at discount, par or premium\\n\\nMarket determined yield rates prevail\\n\\nTradable in the secondary market\\n\\nIssued in scripless form\\n\\nA collateral for short-term fund raising\\n\\nBenefits of Investing in Treasury Bills and Bonds\\n\\nIt is considered as default-risk free, since issued by the sovereign government.\\n\\nSince T bills and T bonds are tradable in the secondary market, they are highly liquid money market instruments. All receipts of interest and maturity proceeds by foreign investors are fully repatriable.\\n\\nIt is possible to have joint investments.\\n\\nUnder the current law, Government Securities are not subject to withholding tax.\\n\\nCBSL securely registers these investments in the Central Depository System (CDS), which is connected to an automated Scripless Securities Settlement System (SSSS).\\n\\nHow to invest in Treasury Bills Treasury Bonds\\n\\nTreasury bills/ bonds can be purchased at any time from the secondary market through primary dealers (PDs) or licensed banks. Primary dealers are appointed by the CBSL to subscribe to issuances of Government securities through the primary market (initial issuance). Other persons who wish to invest in Treasury bills and bonds at the primary market may do so by placing their bids through PDs.\\n\\nNon-resident investors are permitted to maintain a rupee denominated “Inward Investment Account (IIA)” with a licensed commercial bank in Sri Lanka for their investments in Government securities. Total Treasury bill and bond holdings by non-resident investors in aggregate has been capped at 5 % of the outstanding Treasury bills and bonds separately at any given time.\\n\\n(more information on IIA can be found via https://www.dfe.lk/web/images/rdevelopment/d8cca82aaa30bb8155cf56a4a8afbffb-2213-35-E.pdf)\\n\\nA Securities Account in the CDS (the registry) has to be created in the name of the investor/s by the dealer direct participant (licensed bank or SPD) of the CDS. Recording of ownership changes following any transaction in Government securities will take effect on a real time basis depending on the settlement of associated fund transfer.\\n\\nInterest and maturity proceeds of Treasury bills and bonds are credited to the investor's account through respective dealer direct participant maintaining securities account of the investor on the due date. In the event due date falls on a non-business day, settlement will be postponed to the next business day.\\n\\nObtaining information on Treasury Bills and Bonds\\n\\nDetails on available Treasury bills and bonds and prevailing market rates can be obtained from licensed banks, PDs and CBSL (CBSL web site).\\n\\nDetails on Treasury bond and bill Issuance/Settlement Calendar can be obtained from licensed banks, PDs and CBSL (CBSL web site)\\n\\nRequests for Treasury bill and bond holding confirmations shall be submitted to the Superintendent of Public Debt Department of CBSL.\\n\\nFAQ on Government Debt Securities\\n\\nAbout\\n\\nContact Us\\n\\nRight to Information\\n\\nFAQ\\n\\nGlossary\\n\\nForms & Downloads\\n\\nTender Notices\\n\\nCareers\\n\\nPrivacy\\n\\nSitemap\\n\\nMore Services\\n\\nEmployees' Provident Fund\\n\\nPublic Debt Management\\n\\nDepartment of Foreign Exchange\\n\\nCenter for Banking Studies\\n\\nFinancial Intelligence Unit\\n\\nRegional Offices of CBSL\\n\\nLankaPay\\n\\nUseful Sites\\n\\nMinistry of Finance\\n\\nDepartment of Census and Statistics\\n\\nInstitute of Bankers of Sri Lanka\\n\\nInternational Monetary Fund\\n\\nColombo Stock Exchange\\n\\nCredit Information Bureau\\n\\nSri Lanka Accounting and Auditing Standards Monitoring Board\\n\\nFollow Us\\n\\nFacebook\\n\\nTwitter\\n\\nYouTube\\n\\nLinkedIn\\n\\nSubscribe\\n\\nRSS\\n\\n© Central Bank of Sri Lanka, 2018. All Rights Reserved\\n\\nDesigned and Developed by IT Department, CBSL\")"
      ]
     },
     "execution_count": 5,
     "metadata": {},
     "output_type": "execute_result"
    }
   ],
   "source": [
    "data[0]"
   ]
  },
  {
   "cell_type": "code",
   "execution_count": 6,
   "metadata": {},
   "outputs": [
    {
     "data": {
      "text/plain": [
       "30"
      ]
     },
     "execution_count": 6,
     "metadata": {},
     "output_type": "execute_result"
    }
   ],
   "source": [
    "text_splitter=RecursiveCharacterTextSplitter(\n",
    "    chunk_size=1000,\n",
    "    chunk_overlap=200\n",
    ")\n",
    "\n",
    "docs=text_splitter.split_documents(data)\n",
    "len(docs)"
   ]
  },
  {
   "cell_type": "code",
   "execution_count": 15,
   "metadata": {},
   "outputs": [
    {
     "data": {
      "text/plain": [
       "Document(metadata={'source': 'https://www.cbsl.gov.lk/en/financial-system/financial-markets/government-securities-market'}, page_content='Monetary Policy Review\\n\\nMonetary Policy Review - No. 5 of 2024\\n\\nMonetary Policy Review - No. 4 of 2024\\n\\nMonetary Policy Review - No. 3 of 2024\\n\\nMonetary Policy Review - No. 2 of 2024\\n\\nMonetary Policy Review - No. 1 of 2024\\n\\nmore\\n\\nFINANCIAL SYSTEM\\n\\nFinancial System Stability\\n\\nOverview\\n\\nMajor Functions\\n\\nBanking Sector\\n\\nNon Bank Finance and Leasing Sector\\n\\nPrimary Dealers\\n\\nMicrofinance Sector\\n\\nMoney Broking Industry\\n\\nMacroprudential Surveillance\\n\\nSustainable Finance\\n\\nFinancial Markets\\n\\nFinancial Markets Overview\\n\\nInterbank Call money Market\\n\\nDomestic Foreign Exchange Market\\n\\nGovernment Securities Market\\n\\nCorporate Debt Securities Market\\n\\nEquity Market\\n\\nDevelopment Finance and Access to Finance\\n\\nFinancial Infrastructure\\n\\nPayment and Settlement Systems\\n\\nCredit Information\\n\\nLaws and Regulations\\n\\nInstruments & Implementation\\n\\nFinancial Instuments Overview\\n\\nFinancial System Stability Committee\\n\\nFinancial System Oversight Committee\\n\\nFinancial Stability Review\\n\\nNOTES & COINS\\n\\nNotes & Coins')"
      ]
     },
     "execution_count": 15,
     "metadata": {},
     "output_type": "execute_result"
    }
   ],
   "source": [
    "docs[1]"
   ]
  },
  {
   "cell_type": "code",
   "execution_count": 19,
   "metadata": {},
   "outputs": [],
   "source": [
    "# Open a file in write mode\n",
    "with open(\"documents_output.txt\", \"w\", encoding=\"utf-8\") as file:\n",
    "    for i, doc in enumerate(docs):\n",
    "        file.write(f\"Document {i+1}:\\n\")\n",
    "        file.write(doc.page_content)  # Writing the page content\n",
    "        file.write(\"\\n\\n\")  # Add some spacing between documents\n"
   ]
  },
  {
   "cell_type": "code",
   "execution_count": 20,
   "metadata": {},
   "outputs": [
    {
     "name": "stderr",
     "output_type": "stream",
     "text": [
      "c:\\Python312\\Lib\\site-packages\\transformers\\tokenization_utils_base.py:1617: FutureWarning: `clean_up_tokenization_spaces` was not set. It will be set to `True` by default. This behavior will be deprecated in transformers v4.45, and will be then set to `False` by default. For more details check this issue: https://github.com/huggingface/transformers/issues/31884\n",
      "  warnings.warn(\n"
     ]
    }
   ],
   "source": [
    "import numpy as np\n",
    "from sentence_transformers import SentenceTransformer\n",
    "\n",
    "model = SentenceTransformer('all-MiniLM-L6-v2')\n",
    "\n",
    "# Embed the documents \n",
    "embeddings = model.encode([d.page_content for d in docs])\n",
    "\n"
   ]
  },
  {
   "cell_type": "code",
   "execution_count": 31,
   "metadata": {},
   "outputs": [
    {
     "name": "stdout",
     "output_type": "stream",
     "text": [
      "Total sentences indexed: 30\n"
     ]
    }
   ],
   "source": [
    "import faiss\n",
    "#get the dimension of the embeddings\n",
    "d=embeddings.shape[1]\n",
    "index = faiss.IndexFlatL2(d)\n",
    "index.add(embeddings)\n",
    "print(f\"Total sentences indexed: {index.ntotal}\")"
   ]
  },
  {
   "cell_type": "code",
   "execution_count": 35,
   "metadata": {},
   "outputs": [
    {
     "name": "stdout",
     "output_type": "stream",
     "text": [
      "Query: How to invest treasury bonds?\n",
      "Most similar sentences:\n",
      "1: Thank you for visiting www.sc.com/ke\n",
      "\n",
      "Proceed\n",
      "\n",
      "Cultivate an Understanding of Bonds – Beginners Guide\n",
      "\n",
      "Managing your wealth well is like tending a beautiful formal garden – you need to start with good soil and a good set of tools. Just as good soil has the proper fertility to nourish a plant, having the right foundation in financial literacy should empower you to potentially cultivate a successful investment portfolio. Cultivate an Understanding of Bonds is part of our financial education series to help educate you on the fundamentals of investing as you tend your very own financial garden.\n",
      "\n",
      "What is a Bond?\n",
      "\n",
      "If you are looking to build up a well-diversified portfolio, you will usually be advised to include both stocks and bonds among your investments. While stocks may offer you the potential for capital appreciation, bonds may provide a steady stream of investment income, and play an important role of potentially lowering your overall portfolio risks. (Distance: 0.7563384771347046)\n"
     ]
    }
   ],
   "source": [
    "# Define a query sentence\n",
    "query_sentence = \"How to invest treasury bonds?\"\n",
    "query_embedding = model.encode([query_sentence])\n",
    "\n",
    "# Perform the search\n",
    "k = 1  # Number of nearest neighbors to retrieve\n",
    "distances, indices = index.search(query_embedding, k)\n",
    "\n",
    "# Display the results\n",
    "print(f\"Query: {query_sentence}\")\n",
    "\n",
    "print(\"Most similar sentences:\")\n",
    "for i, idx in enumerate(indices[0]):\n",
    "    print(f\"{i + 1}: {docs[idx].page_content} (Distance: {distances[0][i]})\")"
   ]
  },
  {
   "cell_type": "code",
   "execution_count": null,
   "metadata": {},
   "outputs": [],
   "source": []
  }
 ],
 "metadata": {
  "kernelspec": {
   "display_name": "Python 3",
   "language": "python",
   "name": "python3"
  },
  "language_info": {
   "codemirror_mode": {
    "name": "ipython",
    "version": 3
   },
   "file_extension": ".py",
   "mimetype": "text/x-python",
   "name": "python",
   "nbconvert_exporter": "python",
   "pygments_lexer": "ipython3",
   "version": "3.12.0"
  }
 },
 "nbformat": 4,
 "nbformat_minor": 2
}
